{
 "cells": [
  {
   "cell_type": "markdown",
   "id": "0515de7d-7260-4669-ab09-884796a5f40f",
   "metadata": {},
   "source": [
    "# Data Science Tools and Ecosystem"
   ]
  },
  {
   "cell_type": "markdown",
   "id": "8d35201b-3b50-43f2-8c97-2a496cac0ffe",
   "metadata": {
    "tags": []
   },
   "source": [
    "## In this notebook, Data Science Tools and Ecosystem are summarized."
   ]
  },
  {
   "cell_type": "markdown",
   "id": "eeff5525-869c-4882-939a-7a9cb1d478f5",
   "metadata": {
    "tags": []
   },
   "source": [
    "**Objectives:**\n",
    "- List popular languages for Data Science\n",
    "- Name common libraries used by Data Scientists\n",
    "- Create ordered lists in Jupyter Notebooks\n",
    "- Evaluate arithmetic expressions in Python\n",
    "- Create unordered lists in Jupyter Notebooks"
   ]
  },
  {
   "cell_type": "markdown",
   "id": "d6a821c3-46d6-46cf-bd0d-a625506d875a",
   "metadata": {},
   "source": [
    "## Some of the popular languages that Data Scientists use are:\n",
    "1. Python\n",
    "2. R\n",
    "3. SQL"
   ]
  },
  {
   "cell_type": "markdown",
   "id": "302241e1-670d-4d4a-a963-d49dbba07f59",
   "metadata": {},
   "source": [
    "## Some of the commonly used libraries used by Data Scientists include:\n",
    "1. TensorFlow\n",
    "2. Pandas\n",
    "3. NumPy\n",
    "4. Matplotlib\n",
    "5. Scipy\n",
    "6. NLTK(Natural language Toolkit)"
   ]
  },
  {
   "cell_type": "markdown",
   "id": "02b33c18-ad58-42f1-afae-49fd29100ccc",
   "metadata": {},
   "source": [
    "| Data Science Tools | \n",
    "| ----------- |\n",
    "| Jupyter Notebooks |\n",
    "| RStudio |\n",
    "| Visual Studio Code(VS Code) |"
   ]
  },
  {
   "cell_type": "markdown",
   "id": "39b64047-0c95-4f5f-bbdf-5d5faf1ecaa7",
   "metadata": {},
   "source": [
    "### Below are a few examples of evaluating arithmetic expressions in Python."
   ]
  },
  {
   "cell_type": "code",
   "execution_count": 5,
   "id": "78dd0b08-a398-4bad-907d-8eb95af62200",
   "metadata": {
    "tags": []
   },
   "outputs": [
    {
     "data": {
      "text/plain": [
       "17"
      ]
     },
     "execution_count": 5,
     "metadata": {},
     "output_type": "execute_result"
    }
   ],
   "source": [
    "# This is a sample arithmetic expression to multiply then add integers.\n",
    "(3*4)+5"
   ]
  },
  {
   "cell_type": "code",
   "execution_count": 7,
   "id": "1046ffa4-5ee3-470d-a03b-c62f7a73e9ee",
   "metadata": {
    "tags": []
   },
   "outputs": [
    {
     "data": {
      "text/plain": [
       "3.3333333333333335"
      ]
     },
     "execution_count": 7,
     "metadata": {},
     "output_type": "execute_result"
    }
   ],
   "source": [
    "# This will convert 200 minutes to horus by dividing by 60\n",
    "(200 / 60)"
   ]
  },
  {
   "cell_type": "markdown",
   "id": "4f8637fd-e58a-4d67-aa20-2572fdcfe036",
   "metadata": {},
   "source": [
    "## Author\n",
    "Trent Compton"
   ]
  },
  {
   "cell_type": "code",
   "execution_count": null,
   "id": "03165b05-25b3-441d-a013-bd6a83888d58",
   "metadata": {},
   "outputs": [],
   "source": []
  }
 ],
 "metadata": {
  "kernelspec": {
   "display_name": "Python",
   "language": "python",
   "name": "conda-env-python-py"
  },
  "language_info": {
   "codemirror_mode": {
    "name": "ipython",
    "version": 3
   },
   "file_extension": ".py",
   "mimetype": "text/x-python",
   "name": "python",
   "nbconvert_exporter": "python",
   "pygments_lexer": "ipython3",
   "version": "3.7.12"
  }
 },
 "nbformat": 4,
 "nbformat_minor": 5
}
