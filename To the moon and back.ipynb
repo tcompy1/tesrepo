{
  "metadata": {
    "kernelspec": {
      "name": "python",
      "display_name": "Python (Pyodide)",
      "language": "python"
    },
    "language_info": {
      "codemirror_mode": {
        "name": "python",
        "version": 3
      },
      "file_extension": ".py",
      "mimetype": "text/x-python",
      "name": "python",
      "nbconvert_exporter": "python",
      "pygments_lexer": "ipython3",
      "version": "3.8"
    }
  },
  "nbformat_minor": 4,
  "nbformat": 4,
  "cells": [
    {
      "cell_type": "markdown",
      "source": "# I Love You to the Moon and Back.",
      "metadata": {}
    },
    {
      "cell_type": "markdown",
      "source": "<style>\n.h2-border {\n    border: 1px solid black;\n    padding: 10px;\n}\n</style>\n\n<h2 class=\"h2-border\">Average Distance to the moon and back = 477710.17 Miles</h2>",
      "metadata": {}
    },
    {
      "cell_type": "markdown",
      "source": "<style>\n.h2-border {\n    border: 1px solid black;\n    padding: 10px;\n}\n</style>\n\n<h2 class=\"h2-border\">Average Distance hiking in a lifetime = 477587.69 Miles</h2>",
      "metadata": {}
    },
    {
      "cell_type": "markdown",
      "source": "### Average Hiking Speed = 1.988 mp/h",
      "metadata": {}
    },
    {
      "cell_type": "markdown",
      "source": "### Hours hiking per day = 8 hours",
      "metadata": {}
    },
    {
      "cell_type": "code",
      "source": "# define the numbers you want to multiply\nMPH = 1.988\nHours = 8\n# perform multiplication\nresult = 1.988 * 8\n# print the result\nprint(\"Average distance hiking in a day =\", result)",
      "metadata": {
        "trusted": true
      },
      "outputs": [
        {
          "name": "stdout",
          "text": "Average distance hiking in a day = 15.904\n",
          "output_type": "stream"
        }
      ],
      "execution_count": 8
    },
    {
      "cell_type": "code",
      "source": "# define the numbers you want to multiply\nDistance = 15.904\nDays = 365\n# perform multiplication\nresult = 15.904 * 365\nprint(\"Average distance hiking in a year =\", result)",
      "metadata": {
        "trusted": true
      },
      "outputs": [
        {
          "name": "stdout",
          "text": "Average distance hiking in a year = 5804.96\n",
          "output_type": "stream"
        }
      ],
      "execution_count": 9
    },
    {
      "cell_type": "code",
      "source": "# define the numbers you want to divide\nDTM = 477710.17\nDPY = 5804.96\n# perform division\nresult = 477710.17/5804.96\nprint(\"Average years it takes to travel to moon and back =\", result)",
      "metadata": {
        "trusted": true
      },
      "outputs": [
        {
          "name": "stdout",
          "text": "Average years it takes to travel to moon and back = 82.29344732780243\n",
          "output_type": "stream"
        }
      ],
      "execution_count": 10
    },
    {
      "cell_type": "markdown",
      "source": "#### We met May 15th, 2015\n#### My love for you will be back from the Moon...\n#### September, 2097",
      "metadata": {}
    },
    {
      "cell_type": "code",
      "source": "",
      "metadata": {
        "trusted": true
      },
      "outputs": [],
      "execution_count": null
    }
  ]
}